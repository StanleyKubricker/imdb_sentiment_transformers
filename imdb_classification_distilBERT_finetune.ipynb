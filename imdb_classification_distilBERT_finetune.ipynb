{
 "cells": [
  {
   "cell_type": "markdown",
   "id": "33abf762-4c51-4f1f-90a7-8e3be0e40fbb",
   "metadata": {},
   "source": [
    "### Read in dataset\n",
    "IMDb dataset available from https://huggingface.co/datasets/imdb consists of 50,000 movie reviews, labelled as positive or negative.\n",
    "Dataset loaded using 🤗 Transformers datasets API"
   ]
  },
  {
   "cell_type": "code",
   "execution_count": 1,
   "id": "a4a8930a-5a4c-425a-9b4b-3525a422552e",
   "metadata": {
    "execution": {
     "iopub.execute_input": "2022-12-02T13:04:17.127089Z",
     "iopub.status.busy": "2022-12-02T13:04:17.126382Z",
     "iopub.status.idle": "2022-12-02T13:04:38.479713Z",
     "shell.execute_reply": "2022-12-02T13:04:38.479113Z",
     "shell.execute_reply.started": "2022-12-02T13:04:17.127019Z"
    }
   },
   "outputs": [
    {
     "data": {
      "application/vnd.jupyter.widget-view+json": {
       "model_id": "58e884e403df4dd1afc679ddf78ae730",
       "version_major": 2,
       "version_minor": 0
      },
      "text/plain": [
       "Downloading builder script:   0%|          | 0.00/1.79k [00:00<?, ?B/s]"
      ]
     },
     "metadata": {},
     "output_type": "display_data"
    },
    {
     "data": {
      "application/vnd.jupyter.widget-view+json": {
       "model_id": "c6dce4446ec64065ba44b0294493395b",
       "version_major": 2,
       "version_minor": 0
      },
      "text/plain": [
       "Downloading metadata:   0%|          | 0.00/1.05k [00:00<?, ?B/s]"
      ]
     },
     "metadata": {},
     "output_type": "display_data"
    },
    {
     "name": "stdout",
     "output_type": "stream",
     "text": [
      "Downloading and preparing dataset imdb/plain_text (download: 80.23 MiB, generated: 127.02 MiB, post-processed: Unknown size, total: 207.25 MiB) to /root/.cache/huggingface/datasets/imdb/plain_text/1.0.0/2fdd8b9bcadd6e7055e742a706876ba43f19faee861df134affd7a3f60fc38a1...\n"
     ]
    },
    {
     "data": {
      "application/vnd.jupyter.widget-view+json": {
       "model_id": "5dcabeb9e1a74ae3a396bcf8c0833d3c",
       "version_major": 2,
       "version_minor": 0
      },
      "text/plain": [
       "Downloading data:   0%|          | 0.00/84.1M [00:00<?, ?B/s]"
      ]
     },
     "metadata": {},
     "output_type": "display_data"
    },
    {
     "data": {
      "application/vnd.jupyter.widget-view+json": {
       "model_id": "0490cedaf6f343d880b950ce6ecbf461",
       "version_major": 2,
       "version_minor": 0
      },
      "text/plain": [
       "Generating train split:   0%|          | 0/25000 [00:00<?, ? examples/s]"
      ]
     },
     "metadata": {},
     "output_type": "display_data"
    },
    {
     "data": {
      "application/vnd.jupyter.widget-view+json": {
       "model_id": "88343a8e3be041cb98adb92e6bd5f4b7",
       "version_major": 2,
       "version_minor": 0
      },
      "text/plain": [
       "Generating test split:   0%|          | 0/25000 [00:00<?, ? examples/s]"
      ]
     },
     "metadata": {},
     "output_type": "display_data"
    },
    {
     "data": {
      "application/vnd.jupyter.widget-view+json": {
       "model_id": "7b0e68b253a74c6cb454b0ad70c6c2f0",
       "version_major": 2,
       "version_minor": 0
      },
      "text/plain": [
       "Generating unsupervised split:   0%|          | 0/50000 [00:00<?, ? examples/s]"
      ]
     },
     "metadata": {},
     "output_type": "display_data"
    },
    {
     "name": "stdout",
     "output_type": "stream",
     "text": [
      "Dataset imdb downloaded and prepared to /root/.cache/huggingface/datasets/imdb/plain_text/1.0.0/2fdd8b9bcadd6e7055e742a706876ba43f19faee861df134affd7a3f60fc38a1. Subsequent calls will reuse this data.\n"
     ]
    },
    {
     "data": {
      "application/vnd.jupyter.widget-view+json": {
       "model_id": "3359fd43f28f4b49b29abf630ddc5804",
       "version_major": 2,
       "version_minor": 0
      },
      "text/plain": [
       "  0%|          | 0/3 [00:00<?, ?it/s]"
      ]
     },
     "metadata": {},
     "output_type": "display_data"
    }
   ],
   "source": [
    "#Read in imdb dataset using datasets\n",
    "from datasets import load_dataset\n",
    "imdb_data = load_dataset(\"imdb\")"
   ]
  },
  {
   "cell_type": "markdown",
   "id": "9d18c0f9-3ecf-4c3a-b3ad-4e23e2df729e",
   "metadata": {},
   "source": [
    "### Tokenize reviews\n",
    "Reviews are tokenized using the 🤗 Transformers AutoTokenizer. The model checkpoint specifies that we want to use the tokenizer which was used during the training of the distilbert-base-uncased model. It is imperative to use the tokenizer with which the model was originally trained.\n",
    "\n",
    "This tokenization process is applied to all examples in the imdb dataset using the map method."
   ]
  },
  {
   "cell_type": "code",
   "execution_count": 2,
   "id": "8ee1587c-53fc-4bd6-ab73-72d7813432f0",
   "metadata": {
    "execution": {
     "iopub.execute_input": "2022-12-02T13:04:38.481511Z",
     "iopub.status.busy": "2022-12-02T13:04:38.480940Z",
     "iopub.status.idle": "2022-12-02T13:05:04.991005Z",
     "shell.execute_reply": "2022-12-02T13:05:04.990281Z",
     "shell.execute_reply.started": "2022-12-02T13:04:38.481498Z"
    }
   },
   "outputs": [
    {
     "data": {
      "application/vnd.jupyter.widget-view+json": {
       "model_id": "c1ec81367618490588358d99e8714e08",
       "version_major": 2,
       "version_minor": 0
      },
      "text/plain": [
       "Downloading:   0%|          | 0.00/28.0 [00:00<?, ?B/s]"
      ]
     },
     "metadata": {},
     "output_type": "display_data"
    },
    {
     "data": {
      "application/vnd.jupyter.widget-view+json": {
       "model_id": "aa1e06591d0345c7bb0b599aa0328c3e",
       "version_major": 2,
       "version_minor": 0
      },
      "text/plain": [
       "Downloading:   0%|          | 0.00/483 [00:00<?, ?B/s]"
      ]
     },
     "metadata": {},
     "output_type": "display_data"
    },
    {
     "data": {
      "application/vnd.jupyter.widget-view+json": {
       "model_id": "f63e3f6383624aaabafdc86a8ad8d200",
       "version_major": 2,
       "version_minor": 0
      },
      "text/plain": [
       "Downloading:   0%|          | 0.00/226k [00:00<?, ?B/s]"
      ]
     },
     "metadata": {},
     "output_type": "display_data"
    },
    {
     "data": {
      "application/vnd.jupyter.widget-view+json": {
       "model_id": "17bc941f5bed4b8393016867e3165658",
       "version_major": 2,
       "version_minor": 0
      },
      "text/plain": [
       "Downloading:   0%|          | 0.00/455k [00:00<?, ?B/s]"
      ]
     },
     "metadata": {},
     "output_type": "display_data"
    },
    {
     "name": "stderr",
     "output_type": "stream",
     "text": [
      "Parameter 'function'=<function tokenize at 0x7fc1438ab9d0> of the transform datasets.arrow_dataset.Dataset._map_single couldn't be hashed properly, a random hash was used instead. Make sure your transforms and parameters are serializable with pickle or dill for the dataset fingerprinting and caching to work. If you reuse this transform, the caching mechanism will consider it to be different from the previous calls and recompute everything. This warning is only showed once. Subsequent hashing failures won't be showed.\n"
     ]
    },
    {
     "data": {
      "application/vnd.jupyter.widget-view+json": {
       "model_id": "81bad784ac8c4c67a34110166aa464ce",
       "version_major": 2,
       "version_minor": 0
      },
      "text/plain": [
       "  0%|          | 0/1 [00:00<?, ?ba/s]"
      ]
     },
     "metadata": {},
     "output_type": "display_data"
    },
    {
     "data": {
      "application/vnd.jupyter.widget-view+json": {
       "model_id": "9a085677cf224b74ac78c79122f7b877",
       "version_major": 2,
       "version_minor": 0
      },
      "text/plain": [
       "  0%|          | 0/1 [00:00<?, ?ba/s]"
      ]
     },
     "metadata": {},
     "output_type": "display_data"
    },
    {
     "data": {
      "application/vnd.jupyter.widget-view+json": {
       "model_id": "8a09537bcaa94dd3a2c565a084d80f15",
       "version_major": 2,
       "version_minor": 0
      },
      "text/plain": [
       "  0%|          | 0/1 [00:00<?, ?ba/s]"
      ]
     },
     "metadata": {},
     "output_type": "display_data"
    }
   ],
   "source": [
    "from transformers import AutoTokenizer\n",
    "\n",
    "#Instantiate tokenizer instance from distilbert-base-uncased checkpoint\n",
    "model_checkpoint = \"distilbert-base-uncased\"\n",
    "tokenizer = AutoTokenizer.from_pretrained(model_checkpoint)\n",
    "\n",
    "#Define a function to tokenize a batch of texts.\n",
    "#Padding=True means that each review will be padded with zero's to the length of the longest review\n",
    "#Truncation=True means that any review that is longer than the max number of tokens for distilbert uncased (512) \n",
    "#will be truncated to this max length\n",
    "def tokenize(batch):\n",
    "    return tokenizer(batch[\"text\"], padding=True, truncation=True)\n",
    "\n",
    "#Apply tokenize functino to all examples using map\n",
    "imdb_encoded = imdb_data.map(tokenize, batched=True, batch_size=None)"
   ]
  },
  {
   "cell_type": "markdown",
   "id": "b4212830-e28d-4e4e-a0c7-1464eae94705",
   "metadata": {},
   "source": [
    "### Load in model\n",
    "The distilbert-base-uncased model is loaded in using AutoModelForSequenceClassification, which includes a classification head which can predict amongst classes as specified by the num_lables argument.\n",
    "This classification head is a Neural Network, chosen because it is differentiable thus allowing for training as part of the fine-tuning process."
   ]
  },
  {
   "cell_type": "code",
   "execution_count": 3,
   "id": "cb9d7225-cc55-4e20-97d5-395d537d57d8",
   "metadata": {
    "execution": {
     "iopub.execute_input": "2022-12-02T13:05:04.994163Z",
     "iopub.status.busy": "2022-12-02T13:05:04.994033Z",
     "iopub.status.idle": "2022-12-02T13:05:13.374217Z",
     "shell.execute_reply": "2022-12-02T13:05:13.373527Z",
     "shell.execute_reply.started": "2022-12-02T13:05:04.994163Z"
    }
   },
   "outputs": [
    {
     "data": {
      "application/vnd.jupyter.widget-view+json": {
       "model_id": "47b6cecf10c44662b2e9a8ec343c2ce5",
       "version_major": 2,
       "version_minor": 0
      },
      "text/plain": [
       "Downloading:   0%|          | 0.00/256M [00:00<?, ?B/s]"
      ]
     },
     "metadata": {},
     "output_type": "display_data"
    },
    {
     "name": "stderr",
     "output_type": "stream",
     "text": [
      "Some weights of the model checkpoint at distilbert-base-uncased were not used when initializing DistilBertForSequenceClassification: ['vocab_layer_norm.weight', 'vocab_transform.bias', 'vocab_projector.bias', 'vocab_projector.weight', 'vocab_transform.weight', 'vocab_layer_norm.bias']\n",
      "- This IS expected if you are initializing DistilBertForSequenceClassification from the checkpoint of a model trained on another task or with another architecture (e.g. initializing a BertForSequenceClassification model from a BertForPreTraining model).\n",
      "- This IS NOT expected if you are initializing DistilBertForSequenceClassification from the checkpoint of a model that you expect to be exactly identical (initializing a BertForSequenceClassification model from a BertForSequenceClassification model).\n",
      "Some weights of DistilBertForSequenceClassification were not initialized from the model checkpoint at distilbert-base-uncased and are newly initialized: ['pre_classifier.bias', 'classifier.weight', 'classifier.bias', 'pre_classifier.weight']\n",
      "You should probably TRAIN this model on a down-stream task to be able to use it for predictions and inference.\n"
     ]
    }
   ],
   "source": [
    "#Define device to run on GPU if available, else use CPU\n",
    "import torch\n",
    "device = torch.device(\"cuda\" if torch.cuda.is_available() else \"cpu\")\n",
    "\n",
    "#Load in model with a binary classification head\n",
    "from transformers import AutoModelForSequenceClassification\n",
    "num_labels = 2\n",
    "model = (AutoModelForSequenceClassification\n",
    "         .from_pretrained(model_checkpoint, num_labels=num_labels)\n",
    "         .to(device))"
   ]
  },
  {
   "cell_type": "markdown",
   "id": "d82a03d2-9919-4af5-8b9a-92d04f2a241e",
   "metadata": {},
   "source": [
    "### Finetune model\n",
    "\n",
    "Model is finetuned using the Trainer API. F1 score and accuracy are used as performance metrics to be evaluated during training."
   ]
  },
  {
   "cell_type": "code",
   "execution_count": 4,
   "id": "8bbcd87d-08e5-439a-a3ac-8c258833ff19",
   "metadata": {
    "execution": {
     "iopub.execute_input": "2022-12-02T13:05:13.377468Z",
     "iopub.status.busy": "2022-12-02T13:05:13.377317Z",
     "iopub.status.idle": "2022-12-02T13:05:13.798382Z",
     "shell.execute_reply": "2022-12-02T13:05:13.797751Z",
     "shell.execute_reply.started": "2022-12-02T13:05:13.377453Z"
    }
   },
   "outputs": [],
   "source": [
    "#Define function to compute model performance\n",
    "from sklearn.metrics import accuracy_score, f1_score\n",
    "\n",
    "def compute_metrics(pred):\n",
    "    labels = pred.label_ids\n",
    "    preds = pred.predictions.argmax(-1)\n",
    "    f1 = f1_score(labels, preds, average=\"weighted\")\n",
    "    acc = accuracy_score(labels, preds)\n",
    "    return {\"accuracy\": acc, \"f1\": f1}"
   ]
  },
  {
   "cell_type": "code",
   "execution_count": 5,
   "id": "d9b73e9c-2b9c-4dca-88ce-5fcfffd45ad2",
   "metadata": {
    "execution": {
     "iopub.execute_input": "2022-12-02T13:05:13.800697Z",
     "iopub.status.busy": "2022-12-02T13:05:13.800541Z",
     "iopub.status.idle": "2022-12-02T13:33:12.593345Z",
     "shell.execute_reply": "2022-12-02T13:33:12.592635Z",
     "shell.execute_reply.started": "2022-12-02T13:05:13.800682Z"
    }
   },
   "outputs": [
    {
     "name": "stderr",
     "output_type": "stream",
     "text": [
      "/usr/local/lib/python3.9/dist-packages/transformers/optimization.py:306: FutureWarning: This implementation of AdamW is deprecated and will be removed in a future version. Use the PyTorch implementation torch.optim.AdamW instead, or set `no_deprecation_warning=True` to disable this warning\n",
      "  warnings.warn(\n"
     ]
    },
    {
     "data": {
      "text/html": [
       "\n",
       "    <div>\n",
       "      \n",
       "      <progress value='3126' max='3126' style='width:300px; height:20px; vertical-align: middle;'></progress>\n",
       "      [3126/3126 27:53, Epoch 2/2]\n",
       "    </div>\n",
       "    <table border=\"1\" class=\"dataframe\">\n",
       "  <thead>\n",
       " <tr style=\"text-align: left;\">\n",
       "      <th>Epoch</th>\n",
       "      <th>Training Loss</th>\n",
       "      <th>Validation Loss</th>\n",
       "      <th>Accuracy</th>\n",
       "      <th>F1</th>\n",
       "    </tr>\n",
       "  </thead>\n",
       "  <tbody>\n",
       "    <tr>\n",
       "      <td>1</td>\n",
       "      <td>0.265300</td>\n",
       "      <td>0.190673</td>\n",
       "      <td>0.926480</td>\n",
       "      <td>0.926456</td>\n",
       "    </tr>\n",
       "    <tr>\n",
       "      <td>2</td>\n",
       "      <td>0.148900</td>\n",
       "      <td>0.230375</td>\n",
       "      <td>0.930800</td>\n",
       "      <td>0.930794</td>\n",
       "    </tr>\n",
       "  </tbody>\n",
       "</table><p>"
      ],
      "text/plain": [
       "<IPython.core.display.HTML object>"
      ]
     },
     "metadata": {},
     "output_type": "display_data"
    }
   ],
   "source": [
    "#Define training parameters\n",
    "from transformers import Trainer, TrainingArguments\n",
    "\n",
    "batch_size = 16\n",
    "logging_steps = len(imdb_encoded[\"train\"]) // batch_size\n",
    "model_name = f\"{model_checkpoint}-finetuned-imdb\"\n",
    "training_args = TrainingArguments(output_dir=model_name,\n",
    "                                  num_train_epochs=2,\n",
    "                                  learning_rate=2e-5,\n",
    "                                  per_device_train_batch_size=batch_size,\n",
    "                                  per_device_eval_batch_size=batch_size,\n",
    "                                  weight_decay=0.01,\n",
    "                                  evaluation_strategy=\"epoch\",\n",
    "                                  disable_tqdm=False,\n",
    "                                  logging_steps=logging_steps,\n",
    "                                  push_to_hub=False,\n",
    "                                  log_level=\"error\")\n",
    "\n",
    "trainer = Trainer(model=model, args=training_args,\n",
    "                  compute_metrics=compute_metrics,\n",
    "                  train_dataset=imdb_encoded[\"train\"],\n",
    "                  eval_dataset=imdb_encoded[\"test\"],\n",
    "                  tokenizer=tokenizer)\n",
    "trainer.train();"
   ]
  }
 ],
 "metadata": {
  "kernelspec": {
   "display_name": "Python 3 (ipykernel)",
   "language": "python",
   "name": "python3"
  },
  "language_info": {
   "codemirror_mode": {
    "name": "ipython",
    "version": 3
   },
   "file_extension": ".py",
   "mimetype": "text/x-python",
   "name": "python",
   "nbconvert_exporter": "python",
   "pygments_lexer": "ipython3",
   "version": "3.9.13"
  }
 },
 "nbformat": 4,
 "nbformat_minor": 5
}
